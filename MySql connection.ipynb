{
 "cells": [
  {
   "cell_type": "markdown",
   "id": "152be5b1",
   "metadata": {},
   "source": [
    "Mysql workbench or xampp connection using jupyter anaconda"
   ]
  },
  {
   "cell_type": "code",
   "execution_count": 1,
   "id": "5e88d147",
   "metadata": {},
   "outputs": [
    {
     "name": "stdout",
     "output_type": "stream",
     "text": [
      "Collecting package metadata (current_repodata.json): ...working... done\n",
      "Solving environment: ...working... failed with initial frozen solve. Retrying with flexible solve.\n",
      "Solving environment: ...working... failed with repodata from current_repodata.json, will retry with next repodata source.\n",
      "Collecting package metadata (repodata.json): ...working... done\n",
      "Solving environment: ...working... failed with initial frozen solve. Retrying with flexible solve.\n",
      "Solving environment: ...working... \n",
      "Found conflicts! Looking for incompatible packages.\n",
      "This can take several minutes.  Press CTRL-C to abort.\n",
      "failed\n",
      "\n",
      "Note: you may need to restart the kernel to use updated packages.\n"
     ]
    },
    {
     "name": "stderr",
     "output_type": "stream",
     "text": [
      "\n",
      "Building graph of deps:   0%|          | 0/5 [00:00<?, ?it/s]\n",
      "Examining @/win-64::__archspec==1=x86_64:   0%|          | 0/5 [00:00<?, ?it/s]\n",
      "Examining @/win-64::__win==0=0:  20%|##        | 1/5 [00:00<?, ?it/s]          \n",
      "Examining mysql-connector-python:  40%|####      | 2/5 [00:00<?, ?it/s]\n",
      "Examining python=3.9:  60%|######    | 3/5 [00:00<00:00,  5.73it/s]    \n",
      "Examining python=3.9:  80%|########  | 4/5 [00:00<00:00,  7.65it/s]\n",
      "Examining @/win-64::__cuda==11.6=0:  80%|########  | 4/5 [00:01<00:00,  7.65it/s]\n",
      "Examining @/win-64::__cuda==11.6=0: 100%|##########| 5/5 [00:01<00:00,  2.52it/s]\n",
      "                                                                                 \n",
      "\n",
      "Determining conflicts:   0%|          | 0/5 [00:00<?, ?it/s]\n",
      "Examining conflict for mysql-connector-python python:   0%|          | 0/5 [00:00<?, ?it/s]\n",
      "                                                                                           \n",
      "\n",
      "UnsatisfiableError: The following specifications were found\n",
      "to be incompatible with the existing python installation in your environment:\n",
      "\n",
      "Specifications:\n",
      "\n",
      "  - mysql-connector-python -> python[version='>=3.5,<3.6.0a0|>=3.6,<3.7.0a0|>=3.7,<3.8.0a0']\n",
      "\n",
      "Your python: python=3.9\n",
      "\n",
      "If python is on the left-most side of the chain, that's the version you've asked for.\n",
      "When python appears to the right, that indicates that the thing on the left is somehow\n",
      "not available for the python version you are constrained to. Note that conda will not\n",
      "change your python version to a different minor version unless you explicitly specify\n",
      "that.\n",
      "\n",
      "\n",
      "\n"
     ]
    }
   ],
   "source": [
    "conda install -c anaconda mysql-connector-python"
   ]
  },
  {
   "cell_type": "code",
   "execution_count": 1,
   "id": "ecbcec34",
   "metadata": {},
   "outputs": [],
   "source": [
    "import mysql.connector"
   ]
  },
  {
   "cell_type": "code",
   "execution_count": 5,
   "id": "790a50d1",
   "metadata": {},
   "outputs": [],
   "source": [
    "conn=mysql.connector.connect(host='localhost',user='root',password='12345678',database='cctransactions',use_pure=True)"
   ]
  },
  {
   "cell_type": "code",
   "execution_count": 6,
   "id": "83d15d3b",
   "metadata": {},
   "outputs": [],
   "source": [
    "cur=conn.cursor()"
   ]
  },
  {
   "cell_type": "markdown",
   "id": "8feff159",
   "metadata": {},
   "source": [
    "MYSQL_DATABASE: transactions\n",
    "MYSQL_HOST: host.docker.internal\n",
    "MYSQL_PASSWORD: '12345678'\n",
    "MYSQL_PORT: 3306\n",
    "MYSQL_USER: root"
   ]
  },
  {
   "cell_type": "code",
   "execution_count": null,
   "id": "9e78e2b7",
   "metadata": {},
   "outputs": [],
   "source": []
  }
 ],
 "metadata": {
  "kernelspec": {
   "display_name": "Python 3 (ipykernel)",
   "language": "python",
   "name": "python3"
  },
  "language_info": {
   "codemirror_mode": {
    "name": "ipython",
    "version": 3
   },
   "file_extension": ".py",
   "mimetype": "text/x-python",
   "name": "python",
   "nbconvert_exporter": "python",
   "pygments_lexer": "ipython3",
   "version": "3.9.12"
  }
 },
 "nbformat": 4,
 "nbformat_minor": 5
}

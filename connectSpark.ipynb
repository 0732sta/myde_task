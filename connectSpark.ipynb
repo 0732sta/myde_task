{
 "cells": [
  {
   "cell_type": "code",
   "execution_count": 5,
   "metadata": {},
   "outputs": [
    {
     "name": "stdout",
     "output_type": "stream",
     "text": [
      "Requirement already satisfied: pyspark in c:\\users\\atsil\\anaconda3\\envs\\tf\\lib\\site-packages (3.5.0)\n",
      "Requirement already satisfied: py4j==0.10.9.7 in c:\\users\\atsil\\anaconda3\\envs\\tf\\lib\\site-packages (from pyspark) (0.10.9.7)\n",
      "Collecting findspark\n",
      "  Downloading findspark-2.0.1-py2.py3-none-any.whl (4.4 kB)\n",
      "Installing collected packages: findspark\n",
      "Successfully installed findspark-2.0.1\n"
     ]
    }
   ],
   "source": [
    "!pip install pyspark\n",
    "!pip install findspark"
   ]
  },
  {
   "cell_type": "code",
   "execution_count": 6,
   "metadata": {},
   "outputs": [],
   "source": [
    "#initialize the pyspark\n",
    "import findspark\n",
    "findspark.init()"
   ]
  },
  {
   "cell_type": "code",
   "execution_count": 9,
   "metadata": {},
   "outputs": [],
   "source": [
    "import pyspark \n",
    "from pyspark.sql import SparkSession\n",
    "spark=SparkSession.builder \\\n",
    "    .appName(\"cardcredittransactionS\") \\\n",
    "    .getOrCreate()"
   ]
  },
  {
   "cell_type": "code",
   "execution_count": 10,
   "metadata": {},
   "outputs": [],
   "source": [
    "df=spark.read.csv(\"credit_card_transactions-022020.csv\")"
   ]
  },
  {
   "cell_type": "code",
   "execution_count": 12,
   "metadata": {
    "scrolled": false
   },
   "outputs": [
    {
     "data": {
      "text/plain": [
       "DataFrame[_c0: string, _c1: string, _c2: string, _c3: string, _c4: string, _c5: string, _c6: string, _c7: string, _c8: string, _c9: string, _c10: string, _c11: string, _c12: string, _c13: string, _c14: string]"
      ]
     },
     "metadata": {},
     "output_type": "display_data"
    }
   ],
   "source": [
    "display(df)"
   ]
  },
  {
   "cell_type": "code",
   "execution_count": 13,
   "metadata": {
    "scrolled": false
   },
   "outputs": [
    {
     "name": "stdout",
     "output_type": "stream",
     "text": [
      "root\n",
      " |-- _c0: string (nullable = true)\n",
      " |-- _c1: string (nullable = true)\n",
      " |-- _c2: string (nullable = true)\n",
      " |-- _c3: string (nullable = true)\n",
      " |-- _c4: string (nullable = true)\n",
      " |-- _c5: string (nullable = true)\n",
      " |-- _c6: string (nullable = true)\n",
      " |-- _c7: string (nullable = true)\n",
      " |-- _c8: string (nullable = true)\n",
      " |-- _c9: string (nullable = true)\n",
      " |-- _c10: string (nullable = true)\n",
      " |-- _c11: string (nullable = true)\n",
      " |-- _c12: string (nullable = true)\n",
      " |-- _c13: string (nullable = true)\n",
      " |-- _c14: string (nullable = true)\n",
      "\n"
     ]
    }
   ],
   "source": [
    "df.printSchema()"
   ]
  },
  {
   "cell_type": "code",
   "execution_count": 14,
   "metadata": {
    "scrolled": true
   },
   "outputs": [
    {
     "name": "stdout",
     "output_type": "stream",
     "text": [
      "+--------+--------+----+-----+---+-----+-------+------------------+-------------------+-------------+--------------+------------+----+--------------------+------------+\n",
      "|     _c0|     _c1| _c2|  _c3|_c4|  _c5|    _c6|               _c7|                _c8|          _c9|          _c10|        _c11|_c12|                _c13|        _c14|\n",
      "+--------+--------+----+-----+---+-----+-------+------------------+-------------------+-------------+--------------+------------+----+--------------------+------------+\n",
      "|user_num|card_num|year|month|day| time| amount|          use_chip|      merchant_name|merchant_city|merchant_state|merchant_zip| mcc|         errors_desc|fraud_status|\n",
      "|       0|       0|2020|    2|  7|17:46|  $6.81|Online Transaction|6455213054093379528|       ONLINE|          NULL|        NULL|5815|                NULL|          No|\n",
      "|       0|       0|2020|    2|  9|20:09| $65.90|  Chip Transaction|       -4.50054E+18|     La Verne|            CA|       91750|5814|Insufficient Balance|          No|\n",
      "|       0|       0|2020|    2| 10| 6:52| $39.39|  Chip Transaction|       -7.27612E+17|Monterey Park|            CA|       91754|5411|                NULL|          No|\n",
      "|       0|       0|2020|    2| 10|20:14| $14.16|  Chip Transaction|5817218446178736267|     La Verne|            CA|       91750|5912|                NULL|          No|\n",
      "|       0|       0|2020|    2| 11|13:08| $82.88|Online Transaction|       -9.09268E+18|       ONLINE|          NULL|        NULL|4900|                NULL|          No|\n",
      "|       0|       0|2020|    2| 16|11:50|  $1.75|  Chip Transaction|6666504894937430109|     La Verne|            CA|       91750|5499|                NULL|          No|\n",
      "|       0|       0|2020|    2| 18| 6:10|$119.87|  Chip Transaction|4060646732831064559|     La Verne|            CA|       91750|5411|                NULL|          No|\n",
      "|       0|       0|2020|    2| 20| 6:24|$172.81|  Chip Transaction|5817218446178736267|     La Verne|            CA|       91750|5912|                NULL|          No|\n",
      "|       0|       0|2020|    2| 25| 6:52| $19.97|  Chip Transaction|4060646732831064559|     La Verne|            CA|       91750|5411|                NULL|          No|\n",
      "|       0|       0|2020|    2| 26| 9:41| $63.90|  Chip Transaction|2438846973070764815|     New York|            NY|       10113|7538|                NULL|          No|\n",
      "|       0|       0|2020|    2| 27|12:41| $10.58|  Chip Transaction|5205099864768539121|     New York|            NY|       10128|5812|                NULL|          No|\n",
      "|       0|       1|2020|    2|  2|11:53|  $1.07|  Chip Transaction|6666504894937430109|     La Verne|            CA|       91750|5499|                NULL|          No|\n",
      "|       0|       1|2020|    2|  7| 6:12|$123.01|  Chip Transaction|       -7.27612E+17|Monterey Park|            CA|       91754|5411|                NULL|          No|\n",
      "|       0|       1|2020|    2|  9| 9:32| $72.25|  Chip Transaction|3952145593743244256|     La Verne|            CA|       91750|7538|                NULL|          No|\n",
      "|       0|       1|2020|    2| 11| 6:00|$115.56|  Chip Transaction|5817218446178736267|     La Verne|            CA|       91750|5912|                NULL|          No|\n",
      "|       0|       1|2020|    2| 12|20:29| $64.99| Swipe Transaction|       -1.60579E+18|     La Verne|            CA|       91750|5812|                NULL|          No|\n",
      "|       0|       1|2020|    2| 14| 6:23|$124.40|  Chip Transaction|5817218446178736267|     La Verne|            CA|       91750|5912|                NULL|          No|\n",
      "|       0|       1|2020|    2| 15| 6:45| $41.34|  Chip Transaction|       -3.45515E+16|     La Verne|            CA|       91750|5912|                NULL|          No|\n",
      "|       0|       1|2020|    2| 17| 6:13|$153.86|  Chip Transaction|2027553650310142703|    Mira Loma|            CA|       91752|5541|                NULL|          No|\n",
      "+--------+--------+----+-----+---+-----+-------+------------------+-------------------+-------------+--------------+------------+----+--------------------+------------+\n",
      "only showing top 20 rows\n",
      "\n"
     ]
    }
   ],
   "source": [
    "df.show()"
   ]
  },
  {
   "cell_type": "code",
   "execution_count": 15,
   "metadata": {},
   "outputs": [
    {
     "data": {
      "text/plain": [
       "165770"
      ]
     },
     "execution_count": 15,
     "metadata": {},
     "output_type": "execute_result"
    }
   ],
   "source": [
    "df.count()"
   ]
  },
  {
   "cell_type": "code",
   "execution_count": 16,
   "metadata": {},
   "outputs": [
    {
     "name": "stdout",
     "output_type": "stream",
     "text": [
      "+-------+------------------+------------------+------+------+-----------------+------+------+----------------+--------------------+-------------+--------------+------------------+-----------------+-----------+------------+\n",
      "|summary|               _c0|               _c1|   _c2|   _c3|              _c4|   _c5|   _c6|             _c7|                 _c8|          _c9|          _c10|              _c11|             _c12|       _c13|        _c14|\n",
      "+-------+------------------+------------------+------+------+-----------------+------+------+----------------+--------------------+-------------+--------------+------------------+-----------------+-----------+------------+\n",
      "|  count|            165770|            165770|165770|165770|           165770|165770|165770|          165770|              165770|       165770|        144731|            143823|           165770|       2595|      165770|\n",
      "|   mean|1001.3215076401499| 1.132714801923158|2020.0|   2.0|14.43233053224668|  NULL|  NULL|            NULL|-4.69215562144029...|         NULL|          NULL| 51219.51393389051|5557.398482225265|       NULL|        NULL|\n",
      "| stddev| 577.1089049496622|1.3090045069899776|   0.0|   0.0| 8.07695449759905|  NULL|  NULL|            NULL|4.778068190262798E18|         NULL|          NULL|29709.430008027386|875.1964668050532|       NULL|        NULL|\n",
      "|    min|                 0|                 0|  2020|     2|                1|  0:00|$-0.33|Chip Transaction|        -1.00008E+18|    Abbeville|            AA|             10001|             1711|    Bad CVV|          No|\n",
      "|    max|          user_num|          card_num|  year| month|              day|  time|amount|        use_chip|       merchant_name|merchant_city|merchant_state|      merchant_zip|              mcc|errors_desc|fraud_status|\n",
      "+-------+------------------+------------------+------+------+-----------------+------+------+----------------+--------------------+-------------+--------------+------------------+-----------------+-----------+------------+\n",
      "\n"
     ]
    }
   ],
   "source": [
    "df.describe().show()"
   ]
  },
  {
   "cell_type": "code",
   "execution_count": null,
   "metadata": {},
   "outputs": [],
   "source": []
  }
 ],
 "metadata": {
  "kernelspec": {
   "display_name": "Python 3 (ipykernel)",
   "language": "python",
   "name": "python3"
  },
  "language_info": {
   "codemirror_mode": {
    "name": "ipython",
    "version": 3
   },
   "file_extension": ".py",
   "mimetype": "text/x-python",
   "name": "python",
   "nbconvert_exporter": "python",
   "pygments_lexer": "ipython3",
   "version": "3.11.5"
  }
 },
 "nbformat": 4,
 "nbformat_minor": 2
}
